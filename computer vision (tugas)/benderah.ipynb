{
 "cells": [
  {
   "cell_type": "code",
   "execution_count": 7,
   "id": "7676a8cc-cea9-4a44-a8d2-03fc10a2ef2a",
   "metadata": {},
   "outputs": [],
   "source": [
    "import numpy as np\n",
    "import cv2\n",
    "\n",
    "# Ukuran bendera\n",
    "height = 350\n",
    "width = 500\n",
    "\n",
    "# Warna\n",
    "biru = (200, 0, 0)  # Merah\n",
    "putih = (255, 255, 255)  # Kuning\n",
    "merah = (0, 0, 255)  # Hijau\n",
    "\n",
    "# Membuat latar belakang hitam (sebagai dasar)\n",
    "flag = np.zeros((height, width, 3), dtype=np.uint8)\n",
    "\n",
    "# Lebar setiap garis vertikal\n",
    "stripe_width = width // 3\n",
    "\n",
    "# Menggambar garis vertikal merah di sisi kiri\n",
    "flag[:, :stripe_width] = biru\n",
    "\n",
    "# Menggambar garis vertikal kuning di tengah\n",
    "flag[:, stripe_width:2 * stripe_width] = putih\n",
    "\n",
    "# Menggambar garis vertikal hijau di sisi kanan\n",
    "flag[:, 2 * stripe_width:] = merah\n",
    "\n",
    "# Menampilkan bendera\n",
    "cv2.imshow(\"Bendera prancis\", flag)\n",
    "cv2.waitKey(0)\n",
    "cv2.destroyAllWindows()\n"
   ]
  },
  {
   "cell_type": "code",
   "execution_count": null,
   "id": "9cb717b3-b970-4e8e-8a90-9e66b2c603c3",
   "metadata": {},
   "outputs": [],
   "source": []
  },
  {
   "cell_type": "code",
   "execution_count": null,
   "id": "a3def5b8-f02c-4436-866b-ef2526c63f1f",
   "metadata": {},
   "outputs": [],
   "source": []
  }
 ],
 "metadata": {
  "kernelspec": {
   "display_name": "Python 3 (ipykernel)",
   "language": "python",
   "name": "python3"
  },
  "language_info": {
   "codemirror_mode": {
    "name": "ipython",
    "version": 3
   },
   "file_extension": ".py",
   "mimetype": "text/x-python",
   "name": "python",
   "nbconvert_exporter": "python",
   "pygments_lexer": "ipython3",
   "version": "3.12.1"
  }
 },
 "nbformat": 4,
 "nbformat_minor": 5
}
