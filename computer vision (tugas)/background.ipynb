{
 "cells": [
  {
   "cell_type": "code",
   "execution_count": 2,
   "id": "382e0b67-2e8b-4554-b1e9-799af31eeea6",
   "metadata": {},
   "outputs": [],
   "source": [
    "\n",
    "import cv2 as cv\n",
    "import numpy as np\n",
    "\n",
    "# Membaca gambar\n",
    "image = cv.imread(\"images (1).jpg\")\n",
    "\n",
    "# Mengonversi gambar ke ruang warna HSV\n",
    "hsv = cv.cvtColor(image, cv.COLOR_BGR2HSV)\n",
    "\n",
    "# Mendefinisikan rentang warna hijau dalam HSV\n",
    "# Nilai ini bisa disesuaikan jika diperlukan untuk mencocokkan background hijau\n",
    "lower_cyan = np.array([85, 50, 50])\n",
    "upper_cyan = np.array([125, 255, 255])\n",
    "\n",
    "# Membuat mask untuk background hijau\n",
    "mask = cv.inRange(hsv, lower_cyan, upper_cyan)\n",
    "\n",
    "# Membuat background biru dengan ukuran yang sama dengan gambar asli\n",
    "blue_background = np.full_like(image, (255, 0, 0))  # Warna biru dalam format BGR\n",
    "\n",
    "# Menggabungkan gambar asli dengan background biru menggunakan mask\n",
    "result = cv.bitwise_and(blue_background, blue_background, mask=mask)\n",
    "result = cv.bitwise_or(result, cv.bitwise_and(image, image, mask=cv.bitwise_not(mask)))\n",
    "\n",
    "# Menyimpan atau menampilkan hasil\n",
    "cv.imwrite(\"/mnt/data/gambar_dengan_background_biru.jpg\", result)\n",
    "cv.imshow(\"Gambar dengan Background Biru\", result)\n",
    "cv.waitKey(0)\n",
    "cv.destroyAllWindows()\n",
    " \n",
    " \n",
    " \n",
    " "
   ]
  },
  {
   "cell_type": "code",
   "execution_count": null,
   "id": "0281f0a2-403b-40e9-9ae3-72f924f2c0db",
   "metadata": {},
   "outputs": [],
   "source": []
  }
 ],
 "metadata": {
  "kernelspec": {
   "display_name": "Python 3 (ipykernel)",
   "language": "python",
   "name": "python3"
  },
  "language_info": {
   "codemirror_mode": {
    "name": "ipython",
    "version": 3
   },
   "file_extension": ".py",
   "mimetype": "text/x-python",
   "name": "python",
   "nbconvert_exporter": "python",
   "pygments_lexer": "ipython3",
   "version": "3.12.1"
  }
 },
 "nbformat": 4,
 "nbformat_minor": 5
}
